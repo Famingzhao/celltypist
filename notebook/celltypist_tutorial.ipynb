{
 "cells": [
  {
   "cell_type": "markdown",
   "id": "informal-novelty",
   "metadata": {
    "tags": []
   },
   "source": [
    "# Using CellTypist for cell type classification\n",
    "This notebook showcases the cell type classification for scRNA-seq query data by retrieving the most likely cell type labels from either the built-in CellTypist models or the user-trained custom models."
   ]
  },
  {
   "cell_type": "markdown",
   "id": "compliant-mechanism",
   "metadata": {},
   "source": [
    "Only the main steps and key parameters are introduced in this notebook. Refer to detailed [Usage](https://github.com/Teichlab/celltypist#usage) if you want to learn more."
   ]
  },
  {
   "cell_type": "markdown",
   "id": "bright-sending",
   "metadata": {},
   "source": [
    "## Install CellTypist"
   ]
  },
  {
   "cell_type": "code",
   "execution_count": 1,
   "id": "surgical-albania",
   "metadata": {
    "tags": []
   },
   "outputs": [
    {
     "name": "stdout",
     "output_type": "stream",
     "text": [
      "Collecting celltypist\n",
      "  Using cached celltypist-0.1.7-py3-none-any.whl (5.0 MB)\n",
      "Requirement already satisfied: click>=7.1.2 in /opt/conda/lib/python3.8/site-packages (from celltypist) (7.1.2)\n",
      "Requirement already satisfied: scanpy>=1.7.0 in /opt/conda/lib/python3.8/site-packages (from celltypist) (1.7.1)\n",
      "Requirement already satisfied: requests>=2.23.0 in /opt/conda/lib/python3.8/site-packages (from celltypist) (2.25.1)\n",
      "Requirement already satisfied: leidenalg>=0.8.3 in /opt/conda/lib/python3.8/site-packages (from celltypist) (0.8.3)\n",
      "Requirement already satisfied: numpy>=1.19.0 in /opt/conda/lib/python3.8/site-packages (from celltypist) (1.20.1)\n",
      "Requirement already satisfied: scikit-learn>=0.24.1 in /opt/conda/lib/python3.8/site-packages (from celltypist) (0.24.1)\n",
      "Requirement already satisfied: pandas>=1.0.5 in /opt/conda/lib/python3.8/site-packages (from celltypist) (1.2.3)\n",
      "Requirement already satisfied: openpyxl>=3.0.4 in /opt/conda/lib/python3.8/site-packages (from celltypist) (3.0.7)\n",
      "Requirement already satisfied: et-xmlfile in /opt/conda/lib/python3.8/site-packages (from openpyxl>=3.0.4->celltypist) (1.0.1)\n",
      "Requirement already satisfied: python-dateutil>=2.7.3 in /opt/conda/lib/python3.8/site-packages (from pandas>=1.0.5->celltypist) (2.8.1)\n",
      "Requirement already satisfied: pytz>=2017.3 in /opt/conda/lib/python3.8/site-packages (from pandas>=1.0.5->celltypist) (2021.1)\n",
      "Requirement already satisfied: six>=1.5 in /opt/conda/lib/python3.8/site-packages (from python-dateutil>=2.7.3->pandas>=1.0.5->celltypist) (1.15.0)\n",
      "Requirement already satisfied: certifi>=2017.4.17 in /opt/conda/lib/python3.8/site-packages (from requests>=2.23.0->celltypist) (2020.12.5)\n",
      "Requirement already satisfied: urllib3<1.27,>=1.21.1 in /opt/conda/lib/python3.8/site-packages (from requests>=2.23.0->celltypist) (1.26.3)\n",
      "Requirement already satisfied: idna<3,>=2.5 in /opt/conda/lib/python3.8/site-packages (from requests>=2.23.0->celltypist) (2.10)\n",
      "Requirement already satisfied: chardet<5,>=3.0.2 in /opt/conda/lib/python3.8/site-packages (from requests>=2.23.0->celltypist) (4.0.0)\n",
      "Requirement already satisfied: natsort in /opt/conda/lib/python3.8/site-packages (from scanpy>=1.7.0->celltypist) (7.1.1)\n",
      "Requirement already satisfied: packaging in /opt/conda/lib/python3.8/site-packages (from scanpy>=1.7.0->celltypist) (20.9)\n",
      "Requirement already satisfied: anndata>=0.7.4 in /opt/conda/lib/python3.8/site-packages (from scanpy>=1.7.0->celltypist) (0.7.5)\n",
      "Requirement already satisfied: sinfo in /opt/conda/lib/python3.8/site-packages (from scanpy>=1.7.0->celltypist) (0.3.1)\n",
      "Requirement already satisfied: patsy in /opt/conda/lib/python3.8/site-packages (from scanpy>=1.7.0->celltypist) (0.5.1)\n",
      "Requirement already satisfied: legacy-api-wrap in /opt/conda/lib/python3.8/site-packages (from scanpy>=1.7.0->celltypist) (0.0.0)\n",
      "Requirement already satisfied: joblib in /opt/conda/lib/python3.8/site-packages (from scanpy>=1.7.0->celltypist) (1.0.1)\n",
      "Requirement already satisfied: umap-learn>=0.3.10 in /opt/conda/lib/python3.8/site-packages (from scanpy>=1.7.0->celltypist) (0.4.6)\n",
      "Requirement already satisfied: networkx>=2.3 in /opt/conda/lib/python3.8/site-packages (from scanpy>=1.7.0->celltypist) (2.5)\n",
      "Requirement already satisfied: statsmodels>=0.10.0rc2 in /opt/conda/lib/python3.8/site-packages (from scanpy>=1.7.0->celltypist) (0.12.2)\n",
      "Requirement already satisfied: seaborn in /opt/conda/lib/python3.8/site-packages (from scanpy>=1.7.0->celltypist) (0.11.1)\n",
      "Requirement already satisfied: scipy>=1.4 in /opt/conda/lib/python3.8/site-packages (from scanpy>=1.7.0->celltypist) (1.6.1)\n",
      "Requirement already satisfied: h5py>=2.10.0 in /opt/conda/lib/python3.8/site-packages (from scanpy>=1.7.0->celltypist) (3.1.0)\n",
      "Requirement already satisfied: tqdm in /opt/conda/lib/python3.8/site-packages (from scanpy>=1.7.0->celltypist) (4.58.0)\n",
      "Requirement already satisfied: numba>=0.41.0 in /opt/conda/lib/python3.8/site-packages (from scanpy>=1.7.0->celltypist) (0.51.2)\n",
      "Requirement already satisfied: matplotlib>=3.1.2 in /opt/conda/lib/python3.8/site-packages (from scanpy>=1.7.0->celltypist) (3.3.4)\n",
      "Requirement already satisfied: tables in /opt/conda/lib/python3.8/site-packages (from scanpy>=1.7.0->celltypist) (3.6.1)\n",
      "Requirement already satisfied: kiwisolver>=1.0.1 in /opt/conda/lib/python3.8/site-packages (from matplotlib>=3.1.2->scanpy>=1.7.0->celltypist) (1.3.1)\n",
      "Requirement already satisfied: pillow>=6.2.0 in /opt/conda/lib/python3.8/site-packages (from matplotlib>=3.1.2->scanpy>=1.7.0->celltypist) (8.1.2)\n",
      "Requirement already satisfied: cycler>=0.10 in /opt/conda/lib/python3.8/site-packages (from matplotlib>=3.1.2->scanpy>=1.7.0->celltypist) (0.10.0)\n",
      "Requirement already satisfied: pyparsing!=2.0.4,!=2.1.2,!=2.1.6,>=2.0.3 in /opt/conda/lib/python3.8/site-packages (from matplotlib>=3.1.2->scanpy>=1.7.0->celltypist) (2.4.7)\n",
      "Requirement already satisfied: decorator>=4.3.0 in /opt/conda/lib/python3.8/site-packages (from networkx>=2.3->scanpy>=1.7.0->celltypist) (4.4.2)\n",
      "Requirement already satisfied: llvmlite<0.35,>=0.34.0.dev0 in /opt/conda/lib/python3.8/site-packages (from numba>=0.41.0->scanpy>=1.7.0->celltypist) (0.34.0)\n",
      "Requirement already satisfied: setuptools in /opt/conda/lib/python3.8/site-packages (from numba>=0.41.0->scanpy>=1.7.0->celltypist) (49.6.0.post20210108)\n",
      "Requirement already satisfied: threadpoolctl>=2.0.0 in /opt/conda/lib/python3.8/site-packages (from scikit-learn>=0.24.1->celltypist) (2.1.0)\n",
      "Requirement already satisfied: get-version>=2.0.4 in /opt/conda/lib/python3.8/site-packages (from legacy-api-wrap->scanpy>=1.7.0->celltypist) (2.1)\n",
      "Requirement already satisfied: stdlib-list in /opt/conda/lib/python3.8/site-packages (from sinfo->scanpy>=1.7.0->celltypist) (0.7.0)\n",
      "Requirement already satisfied: numexpr>=2.6.2 in /opt/conda/lib/python3.8/site-packages (from tables->scanpy>=1.7.0->celltypist) (2.7.3)\n",
      "Installing collected packages: celltypist\n",
      "Successfully installed celltypist-0.1.7\n"
     ]
    }
   ],
   "source": [
    "!pip install celltypist"
   ]
  },
  {
   "cell_type": "code",
   "execution_count": 2,
   "id": "celtic-melbourne",
   "metadata": {},
   "outputs": [],
   "source": [
    "import scanpy as sc"
   ]
  },
  {
   "cell_type": "code",
   "execution_count": 3,
   "id": "simple-theory",
   "metadata": {},
   "outputs": [],
   "source": [
    "import celltypist\n",
    "from celltypist import models"
   ]
  },
  {
   "cell_type": "markdown",
   "id": "consolidated-hartford",
   "metadata": {},
   "source": [
    "## Download a scRNA-seq dataset of 2,000 immune cells"
   ]
  },
  {
   "cell_type": "code",
   "execution_count": 4,
   "id": "extreme-chase",
   "metadata": {
    "tags": []
   },
   "outputs": [
    {
     "data": {
      "application/vnd.jupyter.widget-view+json": {
       "model_id": "70be9dfdb7624c038a649eafe4a19020",
       "version_major": 2,
       "version_minor": 0
      },
      "text/plain": [
       "  0%|          | 0.00/34.1M [00:00<?, ?B/s]"
      ]
     },
     "metadata": {},
     "output_type": "display_data"
    }
   ],
   "source": [
    "adata_2000 = sc.read('celltypist_demo_folder/demo_2000_cells.h5ad', backup_url = 'https://celltypist.cog.sanger.ac.uk/Notebook_demo_data/demo_2000_cells.h5ad')"
   ]
  },
  {
   "cell_type": "markdown",
   "id": "split-ranch",
   "metadata": {},
   "source": [
    "This dataset includes 2,000 cells and 18,950 genes collected from different studies, thereby showing the practical applicability of CellTypist."
   ]
  },
  {
   "cell_type": "code",
   "execution_count": 5,
   "id": "emotional-jenny",
   "metadata": {},
   "outputs": [
    {
     "data": {
      "text/plain": [
       "(2000, 18950)"
      ]
     },
     "execution_count": 5,
     "metadata": {},
     "output_type": "execute_result"
    }
   ],
   "source": [
    "adata_2000.shape"
   ]
  },
  {
   "cell_type": "markdown",
   "id": "smaller-brunei",
   "metadata": {
    "tags": []
   },
   "source": [
    "The expression matrix (`adata_2000.X`) is pre-processed (and required) as log1p normalised expression to 10,000 counts per cell (this matrix can be alternatively stashed in `.raw.X`)."
   ]
  },
  {
   "cell_type": "code",
   "execution_count": 6,
   "id": "coordinate-conference",
   "metadata": {
    "tags": []
   },
   "outputs": [
    {
     "data": {
      "text/plain": [
       "matrix([[10000.   ],\n",
       "        [10000.002],\n",
       "        [10000.   ],\n",
       "        ...,\n",
       "        [10000.   ],\n",
       "        [10000.   ],\n",
       "        [10000.   ]], dtype=float32)"
      ]
     },
     "execution_count": 6,
     "metadata": {},
     "output_type": "execute_result"
    }
   ],
   "source": [
    "adata_2000.X.expm1().sum(axis = 1)"
   ]
  },
  {
   "cell_type": "markdown",
   "id": "front-electric",
   "metadata": {},
   "source": [
    "Some pre-assigned cell type labels are also in the data, which will be compared to the predicted labels from CellTypist later."
   ]
  },
  {
   "cell_type": "code",
   "execution_count": 7,
   "id": "adjustable-aaron",
   "metadata": {
    "tags": []
   },
   "outputs": [
    {
     "data": {
      "text/html": [
       "<div>\n",
       "<style scoped>\n",
       "    .dataframe tbody tr th:only-of-type {\n",
       "        vertical-align: middle;\n",
       "    }\n",
       "\n",
       "    .dataframe tbody tr th {\n",
       "        vertical-align: top;\n",
       "    }\n",
       "\n",
       "    .dataframe thead th {\n",
       "        text-align: right;\n",
       "    }\n",
       "</style>\n",
       "<table border=\"1\" class=\"dataframe\">\n",
       "  <thead>\n",
       "    <tr style=\"text-align: right;\">\n",
       "      <th></th>\n",
       "      <th>cell_type</th>\n",
       "    </tr>\n",
       "  </thead>\n",
       "  <tbody>\n",
       "    <tr>\n",
       "      <th>cell1</th>\n",
       "      <td>Plasma cells</td>\n",
       "    </tr>\n",
       "    <tr>\n",
       "      <th>cell2</th>\n",
       "      <td>Plasma cells</td>\n",
       "    </tr>\n",
       "    <tr>\n",
       "      <th>cell3</th>\n",
       "      <td>Plasma cells</td>\n",
       "    </tr>\n",
       "    <tr>\n",
       "      <th>cell4</th>\n",
       "      <td>Plasma cells</td>\n",
       "    </tr>\n",
       "    <tr>\n",
       "      <th>cell5</th>\n",
       "      <td>Plasma cells</td>\n",
       "    </tr>\n",
       "    <tr>\n",
       "      <th>...</th>\n",
       "      <td>...</td>\n",
       "    </tr>\n",
       "    <tr>\n",
       "      <th>cell1996</th>\n",
       "      <td>Neutrophil-myeloid progenitor</td>\n",
       "    </tr>\n",
       "    <tr>\n",
       "      <th>cell1997</th>\n",
       "      <td>Neutrophil-myeloid progenitor</td>\n",
       "    </tr>\n",
       "    <tr>\n",
       "      <th>cell1998</th>\n",
       "      <td>Neutrophil-myeloid progenitor</td>\n",
       "    </tr>\n",
       "    <tr>\n",
       "      <th>cell1999</th>\n",
       "      <td>Neutrophil-myeloid progenitor</td>\n",
       "    </tr>\n",
       "    <tr>\n",
       "      <th>cell2000</th>\n",
       "      <td>Neutrophil-myeloid progenitor</td>\n",
       "    </tr>\n",
       "  </tbody>\n",
       "</table>\n",
       "<p>2000 rows × 1 columns</p>\n",
       "</div>"
      ],
      "text/plain": [
       "                              cell_type\n",
       "cell1                      Plasma cells\n",
       "cell2                      Plasma cells\n",
       "cell3                      Plasma cells\n",
       "cell4                      Plasma cells\n",
       "cell5                      Plasma cells\n",
       "...                                 ...\n",
       "cell1996  Neutrophil-myeloid progenitor\n",
       "cell1997  Neutrophil-myeloid progenitor\n",
       "cell1998  Neutrophil-myeloid progenitor\n",
       "cell1999  Neutrophil-myeloid progenitor\n",
       "cell2000  Neutrophil-myeloid progenitor\n",
       "\n",
       "[2000 rows x 1 columns]"
      ]
     },
     "execution_count": 7,
     "metadata": {},
     "output_type": "execute_result"
    }
   ],
   "source": [
    "adata_2000.obs"
   ]
  },
  {
   "cell_type": "markdown",
   "id": "cathedral-lancaster",
   "metadata": {},
   "source": [
    "## Assign cell type labels using a CellTypist built-in model\n",
    "In this section, we show the procedure of transferring cell type labels from built-in models to the query dataset."
   ]
  },
  {
   "cell_type": "markdown",
   "id": "billion-legislation",
   "metadata": {},
   "source": [
    "Download the latest CellTypist models."
   ]
  },
  {
   "cell_type": "code",
   "execution_count": 8,
   "id": "current-order",
   "metadata": {
    "tags": []
   },
   "outputs": [
    {
     "name": "stderr",
     "output_type": "stream",
     "text": [
      "📜 Retrieving model list from server https://celltypist.cog.sanger.ac.uk/models/models.json\n",
      "📚 Total models in list: 37\n",
      "📂 Storing models in /home/jovyan/.celltypist/data/models\n",
      "💾 Downloading model [1/37]: Immune_All_AddPIP.pkl\n",
      "💾 Downloading model [2/37]: Immune_All_High.pkl\n",
      "💾 Downloading model [3/37]: Immune_All_Low.pkl\n",
      "💾 Downloading model [4/37]: Immune_All_PIP.pkl\n",
      "💾 Downloading model [5/37]: Immune_Blood_High.pkl\n",
      "💾 Downloading model [6/37]: Immune_Blood_Low.pkl\n",
      "💾 Downloading model [7/37]: Immune_Bonemarrow_High.pkl\n",
      "💾 Downloading model [8/37]: Immune_Bonemarrow_Low.pkl\n",
      "💾 Downloading model [9/37]: Immune_Colon_High.pkl\n",
      "💾 Downloading model [10/37]: Immune_Colon_Low.pkl\n",
      "💾 Downloading model [11/37]: Immune_Decidua_High.pkl\n",
      "💾 Downloading model [12/37]: Immune_Decidua_Low.pkl\n",
      "💾 Downloading model [13/37]: Immune_Intestine_High.pkl\n",
      "💾 Downloading model [14/37]: Immune_Intestine_Low.pkl\n",
      "💾 Downloading model [15/37]: Immune_Kidney_High.pkl\n",
      "💾 Downloading model [16/37]: Immune_Kidney_Low.pkl\n",
      "💾 Downloading model [17/37]: Immune_Liver_High.pkl\n",
      "💾 Downloading model [18/37]: Immune_Liver_Low.pkl\n",
      "💾 Downloading model [19/37]: Immune_Lung_High.pkl\n",
      "💾 Downloading model [20/37]: Immune_Lung_Low.pkl\n",
      "💾 Downloading model [21/37]: Immune_Mesentericlymphnode_High.pkl\n",
      "💾 Downloading model [22/37]: Immune_Mesentericlymphnode_Low.pkl\n",
      "💾 Downloading model [23/37]: Immune_Oesophagus_High.pkl\n",
      "💾 Downloading model [24/37]: Immune_Oesophagus_Low.pkl\n",
      "💾 Downloading model [25/37]: Immune_Placenta_High.pkl\n",
      "💾 Downloading model [26/37]: Immune_Placenta_Low.pkl\n",
      "💾 Downloading model [27/37]: Immune_Spleen_High.pkl\n",
      "💾 Downloading model [28/37]: Immune_Spleen_Low.pkl\n",
      "💾 Downloading model [29/37]: Immune_Thymus_High.pkl\n",
      "💾 Downloading model [30/37]: Immune_Thymus_Low.pkl\n",
      "💾 Downloading model [31/37]: Immune_Trachea_High.pkl\n",
      "💾 Downloading model [32/37]: Immune_Trachea_Low.pkl\n",
      "💾 Downloading model [33/37]: Immune_Upperairway_High.pkl\n",
      "💾 Downloading model [34/37]: Immune_Upperairway_Low.pkl\n",
      "💾 Downloading model [35/37]: Cells_Intestinal_Tract.pkl\n",
      "💾 Downloading model [36/37]: Cells_Lung_Airway.pkl\n",
      "💾 Downloading model [37/37]: Nuclei_Lung_Airway.pkl\n"
     ]
    }
   ],
   "source": [
    "# Enabling `force_update = True` will overwrite existing (old) models.\n",
    "models.download_models(force_update = True)"
   ]
  },
  {
   "cell_type": "markdown",
   "id": "thermal-insertion",
   "metadata": {},
   "source": [
    "All models are stored in `models.models_path`."
   ]
  },
  {
   "cell_type": "code",
   "execution_count": 9,
   "id": "consistent-apparatus",
   "metadata": {},
   "outputs": [
    {
     "data": {
      "text/plain": [
       "'/home/jovyan/.celltypist/data/models'"
      ]
     },
     "execution_count": 9,
     "metadata": {},
     "output_type": "execute_result"
    }
   ],
   "source": [
    "models.models_path"
   ]
  },
  {
   "cell_type": "markdown",
   "id": "strange-movie",
   "metadata": {},
   "source": [
    "Get an overview of the models and what they represent."
   ]
  },
  {
   "cell_type": "code",
   "execution_count": 10,
   "id": "occasional-debut",
   "metadata": {
    "tags": []
   },
   "outputs": [
    {
     "data": {
      "text/html": [
       "<div>\n",
       "<style scoped>\n",
       "    .dataframe tbody tr th:only-of-type {\n",
       "        vertical-align: middle;\n",
       "    }\n",
       "\n",
       "    .dataframe tbody tr th {\n",
       "        vertical-align: top;\n",
       "    }\n",
       "\n",
       "    .dataframe thead th {\n",
       "        text-align: right;\n",
       "    }\n",
       "</style>\n",
       "<table border=\"1\" class=\"dataframe\">\n",
       "  <thead>\n",
       "    <tr style=\"text-align: right;\">\n",
       "      <th></th>\n",
       "      <th>model</th>\n",
       "      <th>description</th>\n",
       "    </tr>\n",
       "  </thead>\n",
       "  <tbody>\n",
       "    <tr>\n",
       "      <th>0</th>\n",
       "      <td>Immune_All_AddPIP.pkl</td>\n",
       "      <td>immune cell types combined from &gt;20 human tissues</td>\n",
       "    </tr>\n",
       "    <tr>\n",
       "      <th>1</th>\n",
       "      <td>Immune_All_High.pkl</td>\n",
       "      <td>immune populations combined from different org...</td>\n",
       "    </tr>\n",
       "    <tr>\n",
       "      <th>2</th>\n",
       "      <td>Immune_All_Low.pkl</td>\n",
       "      <td>immune sub-populations combined from different...</td>\n",
       "    </tr>\n",
       "    <tr>\n",
       "      <th>3</th>\n",
       "      <td>Immune_All_PIP.pkl</td>\n",
       "      <td>immune cell types combined from 16 adult human...</td>\n",
       "    </tr>\n",
       "    <tr>\n",
       "      <th>4</th>\n",
       "      <td>Immune_Blood_High.pkl</td>\n",
       "      <td>immune populations from the blood</td>\n",
       "    </tr>\n",
       "    <tr>\n",
       "      <th>5</th>\n",
       "      <td>Immune_Blood_Low.pkl</td>\n",
       "      <td>immune sub-populations from the blood</td>\n",
       "    </tr>\n",
       "    <tr>\n",
       "      <th>6</th>\n",
       "      <td>Immune_Bonemarrow_High.pkl</td>\n",
       "      <td>immune populations from the bone marrow</td>\n",
       "    </tr>\n",
       "    <tr>\n",
       "      <th>7</th>\n",
       "      <td>Immune_Bonemarrow_Low.pkl</td>\n",
       "      <td>immune sub-populations from the bone marrow</td>\n",
       "    </tr>\n",
       "    <tr>\n",
       "      <th>8</th>\n",
       "      <td>Immune_Colon_High.pkl</td>\n",
       "      <td>immune populations from the colon</td>\n",
       "    </tr>\n",
       "    <tr>\n",
       "      <th>9</th>\n",
       "      <td>Immune_Colon_Low.pkl</td>\n",
       "      <td>immune sub-populations from the colon</td>\n",
       "    </tr>\n",
       "    <tr>\n",
       "      <th>10</th>\n",
       "      <td>Immune_Decidua_High.pkl</td>\n",
       "      <td>immune populations from the decidua</td>\n",
       "    </tr>\n",
       "    <tr>\n",
       "      <th>11</th>\n",
       "      <td>Immune_Decidua_Low.pkl</td>\n",
       "      <td>immune sub-populations from the decidua</td>\n",
       "    </tr>\n",
       "    <tr>\n",
       "      <th>12</th>\n",
       "      <td>Immune_Intestine_High.pkl</td>\n",
       "      <td>immune populations from the intestine</td>\n",
       "    </tr>\n",
       "    <tr>\n",
       "      <th>13</th>\n",
       "      <td>Immune_Intestine_Low.pkl</td>\n",
       "      <td>immune sub-populations from the intestine</td>\n",
       "    </tr>\n",
       "    <tr>\n",
       "      <th>14</th>\n",
       "      <td>Immune_Kidney_High.pkl</td>\n",
       "      <td>immune populations from the kidney</td>\n",
       "    </tr>\n",
       "    <tr>\n",
       "      <th>15</th>\n",
       "      <td>Immune_Kidney_Low.pkl</td>\n",
       "      <td>immune sub-populations from the kidney</td>\n",
       "    </tr>\n",
       "    <tr>\n",
       "      <th>16</th>\n",
       "      <td>Immune_Liver_High.pkl</td>\n",
       "      <td>immune populations from the liver</td>\n",
       "    </tr>\n",
       "    <tr>\n",
       "      <th>17</th>\n",
       "      <td>Immune_Liver_Low.pkl</td>\n",
       "      <td>immune sub-populations from the liver</td>\n",
       "    </tr>\n",
       "    <tr>\n",
       "      <th>18</th>\n",
       "      <td>Immune_Lung_High.pkl</td>\n",
       "      <td>immune populations from the lung</td>\n",
       "    </tr>\n",
       "    <tr>\n",
       "      <th>19</th>\n",
       "      <td>Immune_Lung_Low.pkl</td>\n",
       "      <td>immune sub-populations from the lung</td>\n",
       "    </tr>\n",
       "    <tr>\n",
       "      <th>20</th>\n",
       "      <td>Immune_Mesentericlymphnode_High.pkl</td>\n",
       "      <td>immune populations from the mesenteric lymph node</td>\n",
       "    </tr>\n",
       "    <tr>\n",
       "      <th>21</th>\n",
       "      <td>Immune_Mesentericlymphnode_Low.pkl</td>\n",
       "      <td>immune sub-populations from the mesenteric lym...</td>\n",
       "    </tr>\n",
       "    <tr>\n",
       "      <th>22</th>\n",
       "      <td>Immune_Oesophagus_High.pkl</td>\n",
       "      <td>immune populations from the oesophagus</td>\n",
       "    </tr>\n",
       "    <tr>\n",
       "      <th>23</th>\n",
       "      <td>Immune_Oesophagus_Low.pkl</td>\n",
       "      <td>immune sub-populations from the oesophagus</td>\n",
       "    </tr>\n",
       "    <tr>\n",
       "      <th>24</th>\n",
       "      <td>Immune_Placenta_High.pkl</td>\n",
       "      <td>immune populations from the placenta</td>\n",
       "    </tr>\n",
       "    <tr>\n",
       "      <th>25</th>\n",
       "      <td>Immune_Placenta_Low.pkl</td>\n",
       "      <td>immune sub-populations from the placenta</td>\n",
       "    </tr>\n",
       "    <tr>\n",
       "      <th>26</th>\n",
       "      <td>Immune_Spleen_High.pkl</td>\n",
       "      <td>immune populations from the spleen</td>\n",
       "    </tr>\n",
       "    <tr>\n",
       "      <th>27</th>\n",
       "      <td>Immune_Spleen_Low.pkl</td>\n",
       "      <td>immune sub-populations from the spleen</td>\n",
       "    </tr>\n",
       "    <tr>\n",
       "      <th>28</th>\n",
       "      <td>Immune_Thymus_High.pkl</td>\n",
       "      <td>immune populations from the thymus</td>\n",
       "    </tr>\n",
       "    <tr>\n",
       "      <th>29</th>\n",
       "      <td>Immune_Thymus_Low.pkl</td>\n",
       "      <td>immune sub-populations from the thymus</td>\n",
       "    </tr>\n",
       "    <tr>\n",
       "      <th>30</th>\n",
       "      <td>Immune_Trachea_High.pkl</td>\n",
       "      <td>immune populations from the trachea</td>\n",
       "    </tr>\n",
       "    <tr>\n",
       "      <th>31</th>\n",
       "      <td>Immune_Trachea_Low.pkl</td>\n",
       "      <td>immune sub-populations from the trachea</td>\n",
       "    </tr>\n",
       "    <tr>\n",
       "      <th>32</th>\n",
       "      <td>Immune_Upperairway_High.pkl</td>\n",
       "      <td>immune populations from the upper airway</td>\n",
       "    </tr>\n",
       "    <tr>\n",
       "      <th>33</th>\n",
       "      <td>Immune_Upperairway_Low.pkl</td>\n",
       "      <td>immune sub-populations from the upper airway</td>\n",
       "    </tr>\n",
       "    <tr>\n",
       "      <th>34</th>\n",
       "      <td>Cells_Intestinal_Tract.pkl</td>\n",
       "      <td>intestinal cells from fetal, pediatric and adu...</td>\n",
       "    </tr>\n",
       "    <tr>\n",
       "      <th>35</th>\n",
       "      <td>Cells_Lung_Airway.pkl</td>\n",
       "      <td>cell populations from scRNA-seq of five locati...</td>\n",
       "    </tr>\n",
       "    <tr>\n",
       "      <th>36</th>\n",
       "      <td>Nuclei_Lung_Airway.pkl</td>\n",
       "      <td>cell populations from snRNA-seq of five locati...</td>\n",
       "    </tr>\n",
       "  </tbody>\n",
       "</table>\n",
       "</div>"
      ],
      "text/plain": [
       "                                  model  \\\n",
       "0                 Immune_All_AddPIP.pkl   \n",
       "1                   Immune_All_High.pkl   \n",
       "2                    Immune_All_Low.pkl   \n",
       "3                    Immune_All_PIP.pkl   \n",
       "4                 Immune_Blood_High.pkl   \n",
       "5                  Immune_Blood_Low.pkl   \n",
       "6            Immune_Bonemarrow_High.pkl   \n",
       "7             Immune_Bonemarrow_Low.pkl   \n",
       "8                 Immune_Colon_High.pkl   \n",
       "9                  Immune_Colon_Low.pkl   \n",
       "10              Immune_Decidua_High.pkl   \n",
       "11               Immune_Decidua_Low.pkl   \n",
       "12            Immune_Intestine_High.pkl   \n",
       "13             Immune_Intestine_Low.pkl   \n",
       "14               Immune_Kidney_High.pkl   \n",
       "15                Immune_Kidney_Low.pkl   \n",
       "16                Immune_Liver_High.pkl   \n",
       "17                 Immune_Liver_Low.pkl   \n",
       "18                 Immune_Lung_High.pkl   \n",
       "19                  Immune_Lung_Low.pkl   \n",
       "20  Immune_Mesentericlymphnode_High.pkl   \n",
       "21   Immune_Mesentericlymphnode_Low.pkl   \n",
       "22           Immune_Oesophagus_High.pkl   \n",
       "23            Immune_Oesophagus_Low.pkl   \n",
       "24             Immune_Placenta_High.pkl   \n",
       "25              Immune_Placenta_Low.pkl   \n",
       "26               Immune_Spleen_High.pkl   \n",
       "27                Immune_Spleen_Low.pkl   \n",
       "28               Immune_Thymus_High.pkl   \n",
       "29                Immune_Thymus_Low.pkl   \n",
       "30              Immune_Trachea_High.pkl   \n",
       "31               Immune_Trachea_Low.pkl   \n",
       "32          Immune_Upperairway_High.pkl   \n",
       "33           Immune_Upperairway_Low.pkl   \n",
       "34           Cells_Intestinal_Tract.pkl   \n",
       "35                Cells_Lung_Airway.pkl   \n",
       "36               Nuclei_Lung_Airway.pkl   \n",
       "\n",
       "                                          description  \n",
       "0   immune cell types combined from >20 human tissues  \n",
       "1   immune populations combined from different org...  \n",
       "2   immune sub-populations combined from different...  \n",
       "3   immune cell types combined from 16 adult human...  \n",
       "4                   immune populations from the blood  \n",
       "5               immune sub-populations from the blood  \n",
       "6             immune populations from the bone marrow  \n",
       "7         immune sub-populations from the bone marrow  \n",
       "8                   immune populations from the colon  \n",
       "9               immune sub-populations from the colon  \n",
       "10                immune populations from the decidua  \n",
       "11            immune sub-populations from the decidua  \n",
       "12              immune populations from the intestine  \n",
       "13          immune sub-populations from the intestine  \n",
       "14                 immune populations from the kidney  \n",
       "15             immune sub-populations from the kidney  \n",
       "16                  immune populations from the liver  \n",
       "17              immune sub-populations from the liver  \n",
       "18                   immune populations from the lung  \n",
       "19               immune sub-populations from the lung  \n",
       "20  immune populations from the mesenteric lymph node  \n",
       "21  immune sub-populations from the mesenteric lym...  \n",
       "22             immune populations from the oesophagus  \n",
       "23         immune sub-populations from the oesophagus  \n",
       "24               immune populations from the placenta  \n",
       "25           immune sub-populations from the placenta  \n",
       "26                 immune populations from the spleen  \n",
       "27             immune sub-populations from the spleen  \n",
       "28                 immune populations from the thymus  \n",
       "29             immune sub-populations from the thymus  \n",
       "30                immune populations from the trachea  \n",
       "31            immune sub-populations from the trachea  \n",
       "32           immune populations from the upper airway  \n",
       "33       immune sub-populations from the upper airway  \n",
       "34  intestinal cells from fetal, pediatric and adu...  \n",
       "35  cell populations from scRNA-seq of five locati...  \n",
       "36  cell populations from snRNA-seq of five locati...  "
      ]
     },
     "execution_count": 10,
     "metadata": {},
     "output_type": "execute_result"
    }
   ],
   "source": [
    "models.models_description()"
   ]
  },
  {
   "cell_type": "markdown",
   "id": "capable-firewall",
   "metadata": {},
   "source": [
    "Choose the model you want to employ, for example, the model with all tissues combined containing low-hierarchy (high-resolution) cell types/subtypes."
   ]
  },
  {
   "cell_type": "code",
   "execution_count": 11,
   "id": "loving-affect",
   "metadata": {},
   "outputs": [],
   "source": [
    "# Indeed, the `model` argument defaults to `Immune_All_Low.pkl`.\n",
    "model = models.Model.load(model = 'Immune_All_Low.pkl')"
   ]
  },
  {
   "cell_type": "markdown",
   "id": "swedish-australia",
   "metadata": {},
   "source": [
    "This model contains 91 cell states."
   ]
  },
  {
   "cell_type": "code",
   "execution_count": 12,
   "id": "worthy-fundamentals",
   "metadata": {
    "tags": []
   },
   "outputs": [
    {
     "data": {
      "text/plain": [
       "array(['B cells', 'CD16+ NK cells', 'CD16- NK cells', 'CD8a/a',\n",
       "       'CD8a/b(entry)', 'CMP', 'Classical monocytes', 'Cycling B cells',\n",
       "       'Cycling DCs', 'Cycling NK cells', 'Cycling T cells',\n",
       "       'Cycling gamma-delta T cells', 'Cycling monocytes',\n",
       "       'Cytotoxic T cells', 'DC', 'DC precursor', 'DC1', 'DC2', 'DC3',\n",
       "       'Double-negative thymocytes', 'Double-positive thymocytes', 'ELP',\n",
       "       'ETP', 'Early MK', 'Early erythroid', 'Early lymphoid/T lymphoid',\n",
       "       'Endothelial cells', 'Epithelial cells', 'Erythrocytes',\n",
       "       'Fibroblasts', 'Follicular B cells', 'Follicular helper T cells',\n",
       "       'GMP', 'Germinal center B cells', 'Granulocytes', 'HSC/MPP',\n",
       "       'Helper T cells', 'Hofbauer cells', 'ILC', 'ILC precursor', 'ILC1',\n",
       "       'ILC2', 'ILC3', 'Immature B cells', 'Kidney-resident macrophages',\n",
       "       'Kupffer cells', 'Late erythroid', 'MAIT cells', 'MEMP', 'MNP',\n",
       "       'Macrophages', 'Mast cells', 'Megakaryocyte precursor',\n",
       "       'Megakaryocyte-erythroid-mast cell progenitor',\n",
       "       'Megakaryocytes/platelets', 'Memory B cells',\n",
       "       'Memory CD4+ cytotoxic T cells', 'Mid erythroid', 'Migratory DCs',\n",
       "       'Mono-mac', 'Monocyte precursor', 'Monocytes', 'Myelocytes',\n",
       "       'NK cells', 'NKT cells', 'Naive B cells',\n",
       "       'Neutrophil-myeloid progenitor', 'Neutrophils',\n",
       "       'Non-classical monocytes', 'Plasma cells', 'Pre-B cells',\n",
       "       'Pre-pro-B cells', 'Pro-B cells', 'Promyelocytes',\n",
       "       'Regulatory T cells', 'T cells', 'T(agonist)',\n",
       "       'Tcm/Naive cytotoxic T cells', 'Tcm/Naive helper T cells',\n",
       "       'Tem/Effector cytotoxic T cells', 'Tem/Effector helper T cells',\n",
       "       'Tem/Effector helper T cells PD1+', 'Transitional B cells',\n",
       "       'Transitional DC', 'Transitional NK', 'Treg(diff)',\n",
       "       'Type 1 helper T cells', 'Type 17 helper T cells',\n",
       "       'gamma-delta T cells', 'pDC', 'pDC precursor'], dtype=object)"
      ]
     },
     "execution_count": 12,
     "metadata": {},
     "output_type": "execute_result"
    }
   ],
   "source": [
    "model.cell_types"
   ]
  },
  {
   "cell_type": "markdown",
   "id": "diagnostic-gross",
   "metadata": {
    "tags": []
   },
   "source": [
    "Some model meta-information."
   ]
  },
  {
   "cell_type": "code",
   "execution_count": 13,
   "id": "verbal-twelve",
   "metadata": {
    "tags": []
   },
   "outputs": [
    {
     "data": {
      "text/plain": [
       "{'date': '2021-10-27 15:20:55.163288',\n",
       " 'details': 'immune sub-populations combined from different organs/tissues',\n",
       " 'url': 'https://celltypist.cog.sanger.ac.uk/models/v6/Immune_All_Low.pkl',\n",
       " 'number_celltypes': 91}"
      ]
     },
     "execution_count": 13,
     "metadata": {},
     "output_type": "execute_result"
    }
   ],
   "source": [
    "model.description"
   ]
  },
  {
   "cell_type": "markdown",
   "id": "disabled-contribution",
   "metadata": {
    "tags": []
   },
   "source": [
    "Transfer cell type labels from this model to the query dataset."
   ]
  },
  {
   "cell_type": "code",
   "execution_count": 14,
   "id": "disabled-hudson",
   "metadata": {
    "tags": []
   },
   "outputs": [
    {
     "name": "stderr",
     "output_type": "stream",
     "text": [
      "🔬 Input data has 2000 cells and 18950 genes\n",
      "🔗 Matching reference genes in the model\n",
      "🧬 3278 features used for prediction\n",
      "⚖️ Scaling input data\n",
      "🖋️ Predicting labels\n",
      "✅ Prediction done!\n",
      "👀 Can not detect a neighborhood graph, construct one before the over-clustering\n",
      "⛓️ Over-clustering input data with resolution set to 5\n",
      "🗳️ Majority voting the predictions\n",
      "✅ Majority voting done!\n"
     ]
    }
   ],
   "source": [
    "# Not run; predict cell identities using this loaded model.\n",
    "#predictions = celltypist.annotate(adata_2000, model = model, majority_voting = True)\n",
    "# Alternatively, just specify the model name (recommended as this ensures the model is intact every time it is loaded).\n",
    "predictions = celltypist.annotate(adata_2000, model = 'Immune_All_Low.pkl', majority_voting = True)"
   ]
  },
  {
   "cell_type": "markdown",
   "id": "military-growth",
   "metadata": {},
   "source": [
    "By default (`majority_voting = False`), CellTypist will infer the identity of each query cell independently. This leads to raw predicted cell type labels, and usually finishes within seconds or minutes depending on the size of the query data. You can also turn on the majority-voting classifier (`majority_voting = True`), which refines cell identities within local subclusters after an over-clustering approach at the cost of increased runtime."
   ]
  },
  {
   "cell_type": "markdown",
   "id": "similar-behalf",
   "metadata": {
    "tags": []
   },
   "source": [
    "The results include both predicted cell type labels (`predicted_labels`), over-clustering result (`over_clustering`), and predicted labels after majority voting in local subclusters (`majority_voting`). Note in the `predicted_labels`, each query cell gets its inferred label by choosing the most probable cell type among all possible cell types in the given model."
   ]
  },
  {
   "cell_type": "code",
   "execution_count": 15,
   "id": "informational-stability",
   "metadata": {
    "tags": []
   },
   "outputs": [
    {
     "data": {
      "text/html": [
       "<div>\n",
       "<style scoped>\n",
       "    .dataframe tbody tr th:only-of-type {\n",
       "        vertical-align: middle;\n",
       "    }\n",
       "\n",
       "    .dataframe tbody tr th {\n",
       "        vertical-align: top;\n",
       "    }\n",
       "\n",
       "    .dataframe thead th {\n",
       "        text-align: right;\n",
       "    }\n",
       "</style>\n",
       "<table border=\"1\" class=\"dataframe\">\n",
       "  <thead>\n",
       "    <tr style=\"text-align: right;\">\n",
       "      <th></th>\n",
       "      <th>predicted_labels</th>\n",
       "      <th>over_clustering</th>\n",
       "      <th>majority_voting</th>\n",
       "    </tr>\n",
       "  </thead>\n",
       "  <tbody>\n",
       "    <tr>\n",
       "      <th>cell1</th>\n",
       "      <td>Plasma cells</td>\n",
       "      <td>42</td>\n",
       "      <td>Plasma cells</td>\n",
       "    </tr>\n",
       "    <tr>\n",
       "      <th>cell2</th>\n",
       "      <td>Plasma cells</td>\n",
       "      <td>14</td>\n",
       "      <td>Plasma cells</td>\n",
       "    </tr>\n",
       "    <tr>\n",
       "      <th>cell3</th>\n",
       "      <td>Plasma cells</td>\n",
       "      <td>37</td>\n",
       "      <td>gamma-delta T cells</td>\n",
       "    </tr>\n",
       "    <tr>\n",
       "      <th>cell4</th>\n",
       "      <td>Plasma cells</td>\n",
       "      <td>2</td>\n",
       "      <td>Plasma cells</td>\n",
       "    </tr>\n",
       "    <tr>\n",
       "      <th>cell5</th>\n",
       "      <td>Plasma cells</td>\n",
       "      <td>2</td>\n",
       "      <td>Plasma cells</td>\n",
       "    </tr>\n",
       "    <tr>\n",
       "      <th>...</th>\n",
       "      <td>...</td>\n",
       "      <td>...</td>\n",
       "      <td>...</td>\n",
       "    </tr>\n",
       "    <tr>\n",
       "      <th>cell1996</th>\n",
       "      <td>Neutrophil-myeloid progenitor</td>\n",
       "      <td>10</td>\n",
       "      <td>Neutrophil-myeloid progenitor</td>\n",
       "    </tr>\n",
       "    <tr>\n",
       "      <th>cell1997</th>\n",
       "      <td>Neutrophil-myeloid progenitor</td>\n",
       "      <td>28</td>\n",
       "      <td>Neutrophil-myeloid progenitor</td>\n",
       "    </tr>\n",
       "    <tr>\n",
       "      <th>cell1998</th>\n",
       "      <td>Neutrophil-myeloid progenitor</td>\n",
       "      <td>27</td>\n",
       "      <td>Neutrophil-myeloid progenitor</td>\n",
       "    </tr>\n",
       "    <tr>\n",
       "      <th>cell1999</th>\n",
       "      <td>Neutrophil-myeloid progenitor</td>\n",
       "      <td>28</td>\n",
       "      <td>Neutrophil-myeloid progenitor</td>\n",
       "    </tr>\n",
       "    <tr>\n",
       "      <th>cell2000</th>\n",
       "      <td>Neutrophil-myeloid progenitor</td>\n",
       "      <td>10</td>\n",
       "      <td>Neutrophil-myeloid progenitor</td>\n",
       "    </tr>\n",
       "  </tbody>\n",
       "</table>\n",
       "<p>2000 rows × 3 columns</p>\n",
       "</div>"
      ],
      "text/plain": [
       "                       predicted_labels over_clustering  \\\n",
       "cell1                      Plasma cells              42   \n",
       "cell2                      Plasma cells              14   \n",
       "cell3                      Plasma cells              37   \n",
       "cell4                      Plasma cells               2   \n",
       "cell5                      Plasma cells               2   \n",
       "...                                 ...             ...   \n",
       "cell1996  Neutrophil-myeloid progenitor              10   \n",
       "cell1997  Neutrophil-myeloid progenitor              28   \n",
       "cell1998  Neutrophil-myeloid progenitor              27   \n",
       "cell1999  Neutrophil-myeloid progenitor              28   \n",
       "cell2000  Neutrophil-myeloid progenitor              10   \n",
       "\n",
       "                        majority_voting  \n",
       "cell1                      Plasma cells  \n",
       "cell2                      Plasma cells  \n",
       "cell3               gamma-delta T cells  \n",
       "cell4                      Plasma cells  \n",
       "cell5                      Plasma cells  \n",
       "...                                 ...  \n",
       "cell1996  Neutrophil-myeloid progenitor  \n",
       "cell1997  Neutrophil-myeloid progenitor  \n",
       "cell1998  Neutrophil-myeloid progenitor  \n",
       "cell1999  Neutrophil-myeloid progenitor  \n",
       "cell2000  Neutrophil-myeloid progenitor  \n",
       "\n",
       "[2000 rows x 3 columns]"
      ]
     },
     "execution_count": 15,
     "metadata": {},
     "output_type": "execute_result"
    }
   ],
   "source": [
    "predictions.predicted_labels"
   ]
  },
  {
   "cell_type": "markdown",
   "id": "intense-hamburg",
   "metadata": {},
   "source": [
    "Transform the prediction result into an `AnnData`."
   ]
  },
  {
   "cell_type": "code",
   "execution_count": 16,
   "id": "unlike-illustration",
   "metadata": {},
   "outputs": [],
   "source": [
    "# Get an `AnnData` with predicted labels embedded into the cell metadata columns.\n",
    "adata = predictions.to_adata()"
   ]
  },
  {
   "cell_type": "markdown",
   "id": "treated-right",
   "metadata": {},
   "source": [
    "Compared to `adata_2000`, the new `adata` has additional prediction information in `adata.obs` (`predicted_labels`, `over_clustering`, `majority_voting` and `conf_score`)."
   ]
  },
  {
   "cell_type": "code",
   "execution_count": 17,
   "id": "forbidden-queen",
   "metadata": {
    "tags": []
   },
   "outputs": [
    {
     "data": {
      "text/html": [
       "<div>\n",
       "<style scoped>\n",
       "    .dataframe tbody tr th:only-of-type {\n",
       "        vertical-align: middle;\n",
       "    }\n",
       "\n",
       "    .dataframe tbody tr th {\n",
       "        vertical-align: top;\n",
       "    }\n",
       "\n",
       "    .dataframe thead th {\n",
       "        text-align: right;\n",
       "    }\n",
       "</style>\n",
       "<table border=\"1\" class=\"dataframe\">\n",
       "  <thead>\n",
       "    <tr style=\"text-align: right;\">\n",
       "      <th></th>\n",
       "      <th>cell_type</th>\n",
       "      <th>predicted_labels</th>\n",
       "      <th>over_clustering</th>\n",
       "      <th>majority_voting</th>\n",
       "      <th>conf_score</th>\n",
       "    </tr>\n",
       "  </thead>\n",
       "  <tbody>\n",
       "    <tr>\n",
       "      <th>cell1</th>\n",
       "      <td>Plasma cells</td>\n",
       "      <td>Plasma cells</td>\n",
       "      <td>42</td>\n",
       "      <td>Plasma cells</td>\n",
       "      <td>0.996814</td>\n",
       "    </tr>\n",
       "    <tr>\n",
       "      <th>cell2</th>\n",
       "      <td>Plasma cells</td>\n",
       "      <td>Plasma cells</td>\n",
       "      <td>14</td>\n",
       "      <td>Plasma cells</td>\n",
       "      <td>0.995119</td>\n",
       "    </tr>\n",
       "    <tr>\n",
       "      <th>cell3</th>\n",
       "      <td>Plasma cells</td>\n",
       "      <td>Plasma cells</td>\n",
       "      <td>37</td>\n",
       "      <td>gamma-delta T cells</td>\n",
       "      <td>0.991911</td>\n",
       "    </tr>\n",
       "    <tr>\n",
       "      <th>cell4</th>\n",
       "      <td>Plasma cells</td>\n",
       "      <td>Plasma cells</td>\n",
       "      <td>2</td>\n",
       "      <td>Plasma cells</td>\n",
       "      <td>0.995159</td>\n",
       "    </tr>\n",
       "    <tr>\n",
       "      <th>cell5</th>\n",
       "      <td>Plasma cells</td>\n",
       "      <td>Plasma cells</td>\n",
       "      <td>2</td>\n",
       "      <td>Plasma cells</td>\n",
       "      <td>0.995717</td>\n",
       "    </tr>\n",
       "    <tr>\n",
       "      <th>...</th>\n",
       "      <td>...</td>\n",
       "      <td>...</td>\n",
       "      <td>...</td>\n",
       "      <td>...</td>\n",
       "      <td>...</td>\n",
       "    </tr>\n",
       "    <tr>\n",
       "      <th>cell1996</th>\n",
       "      <td>Neutrophil-myeloid progenitor</td>\n",
       "      <td>Neutrophil-myeloid progenitor</td>\n",
       "      <td>10</td>\n",
       "      <td>Neutrophil-myeloid progenitor</td>\n",
       "      <td>0.724281</td>\n",
       "    </tr>\n",
       "    <tr>\n",
       "      <th>cell1997</th>\n",
       "      <td>Neutrophil-myeloid progenitor</td>\n",
       "      <td>Neutrophil-myeloid progenitor</td>\n",
       "      <td>28</td>\n",
       "      <td>Neutrophil-myeloid progenitor</td>\n",
       "      <td>0.977658</td>\n",
       "    </tr>\n",
       "    <tr>\n",
       "      <th>cell1998</th>\n",
       "      <td>Neutrophil-myeloid progenitor</td>\n",
       "      <td>Neutrophil-myeloid progenitor</td>\n",
       "      <td>27</td>\n",
       "      <td>Neutrophil-myeloid progenitor</td>\n",
       "      <td>0.843348</td>\n",
       "    </tr>\n",
       "    <tr>\n",
       "      <th>cell1999</th>\n",
       "      <td>Neutrophil-myeloid progenitor</td>\n",
       "      <td>Neutrophil-myeloid progenitor</td>\n",
       "      <td>28</td>\n",
       "      <td>Neutrophil-myeloid progenitor</td>\n",
       "      <td>0.955746</td>\n",
       "    </tr>\n",
       "    <tr>\n",
       "      <th>cell2000</th>\n",
       "      <td>Neutrophil-myeloid progenitor</td>\n",
       "      <td>Neutrophil-myeloid progenitor</td>\n",
       "      <td>10</td>\n",
       "      <td>Neutrophil-myeloid progenitor</td>\n",
       "      <td>0.989907</td>\n",
       "    </tr>\n",
       "  </tbody>\n",
       "</table>\n",
       "<p>2000 rows × 5 columns</p>\n",
       "</div>"
      ],
      "text/plain": [
       "                              cell_type               predicted_labels  \\\n",
       "cell1                      Plasma cells                   Plasma cells   \n",
       "cell2                      Plasma cells                   Plasma cells   \n",
       "cell3                      Plasma cells                   Plasma cells   \n",
       "cell4                      Plasma cells                   Plasma cells   \n",
       "cell5                      Plasma cells                   Plasma cells   \n",
       "...                                 ...                            ...   \n",
       "cell1996  Neutrophil-myeloid progenitor  Neutrophil-myeloid progenitor   \n",
       "cell1997  Neutrophil-myeloid progenitor  Neutrophil-myeloid progenitor   \n",
       "cell1998  Neutrophil-myeloid progenitor  Neutrophil-myeloid progenitor   \n",
       "cell1999  Neutrophil-myeloid progenitor  Neutrophil-myeloid progenitor   \n",
       "cell2000  Neutrophil-myeloid progenitor  Neutrophil-myeloid progenitor   \n",
       "\n",
       "         over_clustering                majority_voting  conf_score  \n",
       "cell1                 42                   Plasma cells    0.996814  \n",
       "cell2                 14                   Plasma cells    0.995119  \n",
       "cell3                 37            gamma-delta T cells    0.991911  \n",
       "cell4                  2                   Plasma cells    0.995159  \n",
       "cell5                  2                   Plasma cells    0.995717  \n",
       "...                  ...                            ...         ...  \n",
       "cell1996              10  Neutrophil-myeloid progenitor    0.724281  \n",
       "cell1997              28  Neutrophil-myeloid progenitor    0.977658  \n",
       "cell1998              27  Neutrophil-myeloid progenitor    0.843348  \n",
       "cell1999              28  Neutrophil-myeloid progenitor    0.955746  \n",
       "cell2000              10  Neutrophil-myeloid progenitor    0.989907  \n",
       "\n",
       "[2000 rows x 5 columns]"
      ]
     },
     "execution_count": 17,
     "metadata": {},
     "output_type": "execute_result"
    }
   ],
   "source": [
    "adata.obs"
   ]
  },
  {
   "cell_type": "markdown",
   "id": "noble-blogger",
   "metadata": {},
   "source": [
    "In addition to this meta information added, the neighborhood graph constructed during over-clustering is also stored in the `adata` \n",
    "(If a pre-calculated neighborhood graph is already present in the `AnnData`, this graph construction step will be skipped).  \n",
    "This graph can be used to derive the cell embeddings, such as the UMAP coordinates."
   ]
  },
  {
   "cell_type": "code",
   "execution_count": 18,
   "id": "frank-cambridge",
   "metadata": {},
   "outputs": [],
   "source": [
    "# If the UMAP or any cell embeddings are already available in the `AnnData`, skip this command.\n",
    "sc.tl.umap(adata)"
   ]
  },
  {
   "cell_type": "markdown",
   "id": "acute-grave",
   "metadata": {},
   "source": [
    "Visualise the prediction results."
   ]
  },
  {
   "cell_type": "code",
   "execution_count": 19,
   "id": "heard-announcement",
   "metadata": {
    "tags": []
   },
   "outputs": [
    {
     "data": {
      "image/png": "[encoded data removed]",
      "text/plain": [
       "<Figure size 1483.92x288 with 3 Axes>"
      ]
     },
     "metadata": {},
     "output_type": "display_data"
    }
   ],
   "source": [
    "sc.pl.umap(adata, color = ['cell_type', 'predicted_labels', 'majority_voting'], legend_loc = 'on data')"
   ]
  },
  {
   "cell_type": "markdown",
   "id": "focused-newfoundland",
   "metadata": {},
   "source": [
    "## Assign cell type labels using a custom model\n",
    "In this section, we show the procedure of generating a custom model and transferring labels from the model to the query data."
   ]
  },
  {
   "cell_type": "markdown",
   "id": "frank-nickname",
   "metadata": {
    "tags": []
   },
   "source": [
    "Use previously downloaded dataset of 2,000 immune cells as the training set."
   ]
  },
  {
   "cell_type": "code",
   "execution_count": 20,
   "id": "sensitive-punishment",
   "metadata": {},
   "outputs": [],
   "source": [
    "adata_2000 = sc.read('celltypist_demo_folder/demo_2000_cells.h5ad', backup_url = 'https://celltypist.cog.sanger.ac.uk/Notebook_demo_data/demo_2000_cells.h5ad')"
   ]
  },
  {
   "cell_type": "markdown",
   "id": "sapphire-award",
   "metadata": {},
   "source": [
    "Download another scRNA-seq dataset of 400 immune cells as a query."
   ]
  },
  {
   "cell_type": "code",
   "execution_count": 21,
   "id": "accredited-forum",
   "metadata": {},
   "outputs": [
    {
     "data": {
      "application/vnd.jupyter.widget-view+json": {
       "model_id": "373d14cc95c841fcad83038d7bdfef2a",
       "version_major": 2,
       "version_minor": 0
      },
      "text/plain": [
       "  0%|          | 0.00/7.62M [00:00<?, ?B/s]"
      ]
     },
     "metadata": {},
     "output_type": "display_data"
    }
   ],
   "source": [
    "adata_400 = sc.read('celltypist_demo_folder/demo_400_cells.h5ad', backup_url = 'https://celltypist.cog.sanger.ac.uk/Notebook_demo_data/demo_400_cells.h5ad')"
   ]
  },
  {
   "cell_type": "markdown",
   "id": "practical-accent",
   "metadata": {
    "tags": []
   },
   "source": [
    "Derive a custom model by training the data using the `celltypist.train` function."
   ]
  },
  {
   "cell_type": "code",
   "execution_count": 22,
   "id": "surrounded-remove",
   "metadata": {
    "tags": []
   },
   "outputs": [
    {
     "name": "stderr",
     "output_type": "stream",
     "text": [
      "🍳 Preparing data before training\n",
      "✂️ 2749 non-expressed genes are filtered out\n",
      "⚖️ Scaling input data\n",
      "🏋️ Training data using logistic regression\n",
      "✅ Model training done!\n"
     ]
    }
   ],
   "source": [
    "# The `cell_type` in `adata_2000.obs` will be used as cell type labels for training.\n",
    "new_model = celltypist.train(adata_2000, labels = 'cell_type')"
   ]
  },
  {
   "cell_type": "markdown",
   "id": "bored-involvement",
   "metadata": {},
   "source": [
    "By default, data is trained using a traditional logistic regression classifier. This classifier is well suited to datasets of small or intermediate sizes (as an empirical estimate, <= 100k cells), and usually leads to an unbiased probability range with less parameter tuning. Among the training parameters, three important ones are `solver` which (if not specified by the user) is selected based on the size of the input data by CellTypist, `C` which sets the inverse of L2 regularisation strength, and `max_iter` which controls the maximum number of iterations before reaching the minimum of the cost function. Other (hyper)parameters from [LogisticRegression](https://scikit-learn.org/stable/modules/generated/sklearn.linear_model.LogisticRegression.html) are also applicable in the `train` function."
   ]
  },
  {
   "cell_type": "markdown",
   "id": "dangerous-vienna",
   "metadata": {},
   "source": [
    "When the dimensions of the input data are large, training may take longer time even with CPU parallelisation (achieved by the `n_jobs` argument). To reduce the training time as well as to add some randomness to the classifier's solution, a stochastic gradient descent (SGD) logistic regression classifier can be enabled by `use_SGD = True`."
   ]
  },
  {
   "cell_type": "code",
   "execution_count": 23,
   "id": "european-allocation",
   "metadata": {},
   "outputs": [],
   "source": [
    "# For illustration purpose; below is not run for this small training data.\n",
    "#new_model = celltypist.train(adata_2000, labels = 'cell_type', use_SGD = True)"
   ]
  },
  {
   "cell_type": "markdown",
   "id": "extra-beads",
   "metadata": {},
   "source": [
    "A logistic regression classifier with SGD learning reduces the training burden dramatically and has a comparable performance versus a traditional logistic regression classifier. A minor caveat is that more careful model parameter tuning may be needed if you want to utilise the probability values from the model for scoring cell types in the prediction step (the selection of the most likely cell type for each query cell in this notebook is not influenced however). Among the training parameters, two important ones are `alpha` which sets the L2 regularisation strength and `max_iter` which controls the maximum number of iterations. Other (hyper)parameters from [SGDClassifier](https://scikit-learn.org/stable/modules/generated/sklearn.linear_model.SGDClassifier.html) are also applicable in the `train` function."
   ]
  },
  {
   "cell_type": "markdown",
   "id": "dangerous-newport",
   "metadata": {},
   "source": [
    "When the training data contains a huge number of cells (for example >500k cells) or more randomness in selecting cells for training is needed, you may consider using the mini-batch version of the SGD logistic regression classifier by specifying `use_SGD = True` and `mini_batch = True`. As a result, in each epoch (default to 10 epochs, `epochs = 10`), cells are binned into equal-sized (the size is default to 1000, `batch_size = 1000`) random batches, and are trained in a batch-by-batch manner (default to 100 batches, `batch_number = 100`)."
   ]
  },
  {
   "cell_type": "code",
   "execution_count": 24,
   "id": "sized-cooler",
   "metadata": {
    "tags": []
   },
   "outputs": [],
   "source": [
    "# For illustration purpose; below is not run for this small training data.\n",
    "#new_model = celltypist.train(adata_2000, labels = 'cell_type', use_SGD = True, mini_batch = True)"
   ]
  },
  {
   "cell_type": "markdown",
   "id": "secondary-penguin",
   "metadata": {},
   "source": [
    "This custom model can be manipulated as with other CellTypist built-in models. First, save this model locally."
   ]
  },
  {
   "cell_type": "code",
   "execution_count": 25,
   "id": "rural-sperm",
   "metadata": {},
   "outputs": [],
   "source": [
    "# Save the model.\n",
    "new_model.write('celltypist_demo_folder/model_from_immune2000.pkl')"
   ]
  },
  {
   "cell_type": "markdown",
   "id": "structured-charter",
   "metadata": {
    "tags": []
   },
   "source": [
    "You can load this model by `models.Model.load`."
   ]
  },
  {
   "cell_type": "code",
   "execution_count": 26,
   "id": "coupled-scene",
   "metadata": {},
   "outputs": [],
   "source": [
    "new_model = models.Model.load('celltypist_demo_folder/model_from_immune2000.pkl')"
   ]
  },
  {
   "cell_type": "markdown",
   "id": "former-walnut",
   "metadata": {},
   "source": [
    "Next, we use this model to predict the query dataset of 400 immune cells."
   ]
  },
  {
   "cell_type": "code",
   "execution_count": 27,
   "id": "extended-content",
   "metadata": {
    "tags": []
   },
   "outputs": [
    {
     "name": "stderr",
     "output_type": "stream",
     "text": [
      "🔬 Input data has 400 cells and 18950 genes\n",
      "🔗 Matching reference genes in the model\n",
      "🧬 16201 features used for prediction\n",
      "⚖️ Scaling input data\n",
      "🖋️ Predicting labels\n",
      "✅ Prediction done!\n",
      "👀 Can not detect a neighborhood graph, construct one before the over-clustering\n",
      "⛓️ Over-clustering input data with resolution set to 5\n",
      "🗳️ Majority voting the predictions\n",
      "✅ Majority voting done!\n"
     ]
    }
   ],
   "source": [
    "# Not run; predict the identity of each input cell with the new model.\n",
    "#predictions = celltypist.annotate(adata_400, model = new_model, majority_voting = True)\n",
    "# Alternatively, just specify the model path (recommended as this ensures the model is intact every time it is loaded).\n",
    "predictions = celltypist.annotate(adata_400, model = 'celltypist_demo_folder/model_from_immune2000.pkl', majority_voting = True)"
   ]
  },
  {
   "cell_type": "code",
   "execution_count": 28,
   "id": "latter-referral",
   "metadata": {},
   "outputs": [],
   "source": [
    "adata = predictions.to_adata()"
   ]
  },
  {
   "cell_type": "code",
   "execution_count": 29,
   "id": "bibliographic-discharge",
   "metadata": {},
   "outputs": [],
   "source": [
    "sc.tl.umap(adata)"
   ]
  },
  {
   "cell_type": "code",
   "execution_count": 30,
   "id": "monthly-makeup",
   "metadata": {
    "tags": []
   },
   "outputs": [
    {
     "data": {
      "image/png": "[encoded data removed]",
      "text/plain": [
       "<Figure size 1483.92x288 with 3 Axes>"
      ]
     },
     "metadata": {},
     "output_type": "display_data"
    }
   ],
   "source": [
    "sc.pl.umap(adata, color = ['cell_type', 'predicted_labels', 'majority_voting'], legend_loc = 'on data')"
   ]
  },
  {
   "cell_type": "markdown",
   "id": "permanent-offer",
   "metadata": {},
   "source": [
    "## Examine expression of cell type-driving genes"
   ]
  },
  {
   "cell_type": "markdown",
   "id": "crucial-prime",
   "metadata": {},
   "source": [
    "Each model can be examined in terms of the driving genes for each cell type. Note these genes are only dependent on the model, say, the training dataset."
   ]
  },
  {
   "cell_type": "code",
   "execution_count": 31,
   "id": "placed-introduction",
   "metadata": {
    "tags": []
   },
   "outputs": [],
   "source": [
    "# Any model can be inspected.\n",
    "# Here we load the previously saved model trained from 2,000 immune cells.\n",
    "model = models.Model.load(model = 'celltypist_demo_folder/model_from_immune2000.pkl')"
   ]
  },
  {
   "cell_type": "code",
   "execution_count": 32,
   "id": "rural-aluminum",
   "metadata": {},
   "outputs": [
    {
     "data": {
      "text/plain": [
       "array(['DC1', 'Endothelial cells', 'Follicular B cells', 'Kupffer cells',\n",
       "       'Macrophages', 'Mast cells', 'Neutrophil-myeloid progenitor',\n",
       "       'Plasma cells', 'gamma-delta T cells', 'pDC'], dtype=object)"
      ]
     },
     "execution_count": 32,
     "metadata": {},
     "output_type": "execute_result"
    }
   ],
   "source": [
    "model.cell_types"
   ]
  },
  {
   "cell_type": "markdown",
   "id": "severe-catering",
   "metadata": {},
   "source": [
    "Extract the matrix of gene weights across cell types."
   ]
  },
  {
   "cell_type": "code",
   "execution_count": 33,
   "id": "extraordinary-trailer",
   "metadata": {
    "tags": []
   },
   "outputs": [
    {
     "data": {
      "text/plain": [
       "(10, 16201)"
      ]
     },
     "execution_count": 33,
     "metadata": {},
     "output_type": "execute_result"
    }
   ],
   "source": [
    "weights = model.classifier.coef_\n",
    "weights.shape"
   ]
  },
  {
   "cell_type": "markdown",
   "id": "frequent-underground",
   "metadata": {
    "tags": []
   },
   "source": [
    "Top three driving genes of `Mast cells`."
   ]
  },
  {
   "cell_type": "code",
   "execution_count": 34,
   "id": "resistant-sheriff",
   "metadata": {
    "tags": []
   },
   "outputs": [
    {
     "data": {
      "text/plain": [
       "array(['CPA3', 'TPSAB1', 'TPSB2'], dtype=object)"
      ]
     },
     "execution_count": 34,
     "metadata": {},
     "output_type": "execute_result"
    }
   ],
   "source": [
    "mast_cell_weights = weights[model.cell_types == 'Mast cells']\n",
    "top_3_genes = model.features[mast_cell_weights.argpartition(-3, axis = None)[-3:]]\n",
    "top_3_genes"
   ]
  },
  {
   "cell_type": "code",
   "execution_count": 35,
   "id": "funded-replica",
   "metadata": {
    "tags": []
   },
   "outputs": [
    {
     "data": {
      "image/png": "[encoded data removed]",
      "text/plain": [
       "<Figure size 1614.38x288 with 3 Axes>"
      ]
     },
     "metadata": {
      "needs_background": "light"
     },
     "output_type": "display_data"
    }
   ],
   "source": [
    "# Check expression of the three genes in the training set.\n",
    "sc.pl.violin(adata_2000, top_3_genes, groupby = 'cell_type', rotation = 90)"
   ]
  },
  {
   "cell_type": "code",
   "execution_count": 36,
   "id": "expressed-berry",
   "metadata": {},
   "outputs": [
    {
     "data": {
      "image/png": "[encoded data removed]",
      "text/plain": [
       "<Figure size 1614.38x288 with 3 Axes>"
      ]
     },
     "metadata": {
      "needs_background": "light"
     },
     "output_type": "display_data"
    }
   ],
   "source": [
    "# Check expression of the three genes in the query set.\n",
    "# Here we use `majority_voting` from CellTypist as the cell type labels for this dataset.\n",
    "sc.pl.violin(adata_400, top_3_genes, groupby = 'majority_voting', rotation = 90)"
   ]
  }
 ],
 "metadata": {
  "kernelspec": {
   "display_name": "Python 3",
   "language": "python",
   "name": "python3"
  },
  "language_info": {
   "codemirror_mode": {
    "name": "ipython",
    "version": 3
   },
   "file_extension": ".py",
   "mimetype": "text/x-python",
   "name": "python",
   "nbconvert_exporter": "python",
   "pygments_lexer": "ipython3",
   "version": "3.8.8"
  }
 },
 "nbformat": 4,
 "nbformat_minor": 5
}
